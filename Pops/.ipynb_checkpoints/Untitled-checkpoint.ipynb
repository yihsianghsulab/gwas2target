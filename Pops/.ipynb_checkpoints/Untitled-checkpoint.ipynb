{
 "cells": [
  {
   "cell_type": "markdown",
   "id": "6ea97e22-0a5e-401b-b74d-f5efe9e30feb",
   "metadata": {},
   "source": [
    "## Environment Setup\n",
    "Please ensure the **Pops repo** and **data file** are download through the **terminal** before starting.<br>\n",
    "Or open your terminal and install using the following commands:<br>\n",
    "\n",
    "<h3>Clone the Pops repo</h3>\n",
    "<pre><code>git clone https://github.com/FinucaneLab/pops.git\n",
    "</code></pre>\n",
    "\n",
    "<h3>Change directory</h3>\n",
    "<pre><code>cd pops-master\n",
    "</code></pre>\n",
    "\n",
    "<h3>Download Magma</h3>\n",
    "<pre><code>cd pops-master\n",
    "</code></pre>\n",
    "\n",
    "<h3>Download Data</h3>\n",
    "<pre><code>wget -c \"https://www.dropbox.com/sh/o6t5jprvxb8b500/AADZ8qD6Rpz4uvCk0b5nUnPaa/data?dl=0&subfolder_nav_tracking=1\"\n",
    "</code></pre>"
   ]
  }
 ],
 "metadata": {
  "kernelspec": {
   "display_name": "Python 3 (ipykernel)",
   "language": "python",
   "name": "python3"
  },
  "language_info": {
   "codemirror_mode": {
    "name": "ipython",
    "version": 3
   },
   "file_extension": ".py",
   "mimetype": "text/x-python",
   "name": "python",
   "nbconvert_exporter": "python",
   "pygments_lexer": "ipython3",
   "version": "3.11.5"
  }
 },
 "nbformat": 4,
 "nbformat_minor": 5
}
